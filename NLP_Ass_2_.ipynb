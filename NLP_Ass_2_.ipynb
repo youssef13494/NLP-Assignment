{
  "nbformat": 4,
  "nbformat_minor": 0,
  "metadata": {
    "colab": {
      "provenance": []
    },
    "kernelspec": {
      "name": "python3",
      "display_name": "Python 3"
    },
    "language_info": {
      "name": "python"
    }
  },
  "cells": [
    {
      "cell_type": "code",
      "execution_count": 1,
      "metadata": {
        "id": "Pz5EfjMsKoqz",
        "colab": {
          "base_uri": "https://localhost:8080/"
        },
        "outputId": "d4ae28f9-5838-4e36-bc93-0d0861d2caf8"
      },
      "outputs": [
        {
          "output_type": "stream",
          "name": "stdout",
          "text": [
            "Requirement already satisfied: transformers in /usr/local/lib/python3.10/dist-packages (4.38.2)\n",
            "Requirement already satisfied: filelock in /usr/local/lib/python3.10/dist-packages (from transformers) (3.13.1)\n",
            "Requirement already satisfied: huggingface-hub<1.0,>=0.19.3 in /usr/local/lib/python3.10/dist-packages (from transformers) (0.20.3)\n",
            "Requirement already satisfied: numpy>=1.17 in /usr/local/lib/python3.10/dist-packages (from transformers) (1.25.2)\n",
            "Requirement already satisfied: packaging>=20.0 in /usr/local/lib/python3.10/dist-packages (from transformers) (24.0)\n",
            "Requirement already satisfied: pyyaml>=5.1 in /usr/local/lib/python3.10/dist-packages (from transformers) (6.0.1)\n",
            "Requirement already satisfied: regex!=2019.12.17 in /usr/local/lib/python3.10/dist-packages (from transformers) (2023.12.25)\n",
            "Requirement already satisfied: requests in /usr/local/lib/python3.10/dist-packages (from transformers) (2.31.0)\n",
            "Requirement already satisfied: tokenizers<0.19,>=0.14 in /usr/local/lib/python3.10/dist-packages (from transformers) (0.15.2)\n",
            "Requirement already satisfied: safetensors>=0.4.1 in /usr/local/lib/python3.10/dist-packages (from transformers) (0.4.2)\n",
            "Requirement already satisfied: tqdm>=4.27 in /usr/local/lib/python3.10/dist-packages (from transformers) (4.66.2)\n",
            "Requirement already satisfied: fsspec>=2023.5.0 in /usr/local/lib/python3.10/dist-packages (from huggingface-hub<1.0,>=0.19.3->transformers) (2023.6.0)\n",
            "Requirement already satisfied: typing-extensions>=3.7.4.3 in /usr/local/lib/python3.10/dist-packages (from huggingface-hub<1.0,>=0.19.3->transformers) (4.10.0)\n",
            "Requirement already satisfied: charset-normalizer<4,>=2 in /usr/local/lib/python3.10/dist-packages (from requests->transformers) (3.3.2)\n",
            "Requirement already satisfied: idna<4,>=2.5 in /usr/local/lib/python3.10/dist-packages (from requests->transformers) (3.6)\n",
            "Requirement already satisfied: urllib3<3,>=1.21.1 in /usr/local/lib/python3.10/dist-packages (from requests->transformers) (2.0.7)\n",
            "Requirement already satisfied: certifi>=2017.4.17 in /usr/local/lib/python3.10/dist-packages (from requests->transformers) (2024.2.2)\n"
          ]
        }
      ],
      "source": [
        "pip install transformers"
      ]
    },
    {
      "cell_type": "code",
      "execution_count": 2,
      "metadata": {
        "colab": {
          "base_uri": "https://localhost:8080/"
        },
        "id": "APk0npV_AwLZ",
        "outputId": "bfd2add9-e3eb-4e83-bb53-9752b6f50835"
      },
      "outputs": [
        {
          "output_type": "stream",
          "name": "stdout",
          "text": [
            "Requirement already satisfied: nltk in /usr/local/lib/python3.10/dist-packages (3.8.1)\n",
            "Requirement already satisfied: click in /usr/local/lib/python3.10/dist-packages (from nltk) (8.1.7)\n",
            "Requirement already satisfied: joblib in /usr/local/lib/python3.10/dist-packages (from nltk) (1.3.2)\n",
            "Requirement already satisfied: regex>=2021.8.3 in /usr/local/lib/python3.10/dist-packages (from nltk) (2023.12.25)\n",
            "Requirement already satisfied: tqdm in /usr/local/lib/python3.10/dist-packages (from nltk) (4.66.2)\n"
          ]
        }
      ],
      "source": [
        "pip install nltk"
      ]
    },
    {
      "cell_type": "code",
      "source": [
        "import numpy as np\n",
        "import re\n",
        "import nltk\n",
        "from transformers import pipeline\n",
        "from sklearn.feature_extraction.text import TfidfVectorizer\n",
        "from nltk.tokenize import word_tokenize\n",
        "from nltk.stem import WordNetLemmatizer\n",
        "from nltk.corpus import stopwords"
      ],
      "metadata": {
        "id": "2jUJhG6yBGLc"
      },
      "execution_count": 3,
      "outputs": []
    },
    {
      "cell_type": "code",
      "source": [
        "nltk.download('punkt')\n",
        "nltk.download('wordnet')\n",
        "nltk.download('stopwords')"
      ],
      "metadata": {
        "colab": {
          "base_uri": "https://localhost:8080/"
        },
        "id": "x5UABo1sord9",
        "outputId": "16da42da-5f3f-4523-ce13-56b5d8044047"
      },
      "execution_count": 4,
      "outputs": [
        {
          "output_type": "stream",
          "name": "stderr",
          "text": [
            "[nltk_data] Downloading package punkt to /root/nltk_data...\n",
            "[nltk_data]   Package punkt is already up-to-date!\n",
            "[nltk_data] Downloading package wordnet to /root/nltk_data...\n",
            "[nltk_data]   Package wordnet is already up-to-date!\n",
            "[nltk_data] Downloading package stopwords to /root/nltk_data...\n",
            "[nltk_data]   Package stopwords is already up-to-date!\n"
          ]
        },
        {
          "output_type": "execute_result",
          "data": {
            "text/plain": [
              "True"
            ]
          },
          "metadata": {},
          "execution_count": 4
        }
      ]
    },
    {
      "cell_type": "code",
      "source": [
        "gen = pipeline('text-generation', model ='EleutherAI/gpt-neo-2.7B')"
      ],
      "metadata": {
        "id": "xFeLKlYmfOKp",
        "colab": {
          "base_uri": "https://localhost:8080/"
        },
        "outputId": "c3c46fe2-c205-40b7-f81a-c00eb96aec79"
      },
      "execution_count": 5,
      "outputs": [
        {
          "output_type": "stream",
          "name": "stderr",
          "text": [
            "/usr/local/lib/python3.10/dist-packages/huggingface_hub/utils/_token.py:88: UserWarning: \n",
            "The secret `HF_TOKEN` does not exist in your Colab secrets.\n",
            "To authenticate with the Hugging Face Hub, create a token in your settings tab (https://huggingface.co/settings/tokens), set it as secret in your Google Colab and restart your session.\n",
            "You will be able to reuse this secret in all of your notebooks.\n",
            "Please note that authentication is recommended but still optional to access public models or datasets.\n",
            "  warnings.warn(\n"
          ]
        }
      ]
    },
    {
      "cell_type": "code",
      "source": [
        "topics = np.array(['programming', 'Artificial Intelligience', 'laptop'])\n",
        "for topic in topics:\n",
        "  phrases += [gen.predict(topic)[0]['generated_text']]\n",
        "phrases"
      ],
      "metadata": {
        "colab": {
          "base_uri": "https://localhost:8080/"
        },
        "id": "8OXbGO6WauhS",
        "outputId": "e143d313-aa58-4942-c9e8-f18169db8bf2"
      },
      "execution_count": 11,
      "outputs": [
        {
          "output_type": "stream",
          "name": "stderr",
          "text": [
            "Setting `pad_token_id` to `eos_token_id`:50256 for open-end generation.\n",
            "Setting `pad_token_id` to `eos_token_id`:50256 for open-end generation.\n",
            "Setting `pad_token_id` to `eos_token_id`:50256 for open-end generation.\n"
          ]
        },
        {
          "output_type": "execute_result",
          "data": {
            "text/plain": [
              "['Software Engineering Interview Questions\\n\\nThis article is a list of interview questions to prepare for interview questions for the Software Development interviews.\\n\\nSoftware Engineering Interview Questions\\n\\n1. What is the use of object-oriented programming in OOP?\\nWhat',\n",
              " 'Artificial Intelligience’\\n\\n“Intelligence is at the core of this discussion on artificial intelligence,” says Geremie R. Barmé of the Future of Life Institute and the University of Reading, “but',\n",
              " 'Robotics.com recently conducted an interview with Robert Noyce, the founder of the company behind the iconic Dolly the sheep robot. In a previous post, I talked about how Robert and his team built the company in a garage in rural Seattle',\n",
              " 'Economics in the age of austerity\\n\\nEconomics in the Age of Austerity, or, why the poor get poorer, and the rich get more and more, is an essayist and academic debate between Mancur Olson, an associate professor',\n",
              " 'Trading in a stock is a highly emotional decision. The emotions can be divided into two distinct categories – positive (enthusiastic) and negative (discouraged). Positive emotions like excitement, confidence, and greed come from within where as negative',\n",
              " 'Time Management 101: 10 Tips for Packing It Up in 2013\\n\\nJanuary 13, 2013\\n\\nIn this article I’ll share some of my favorite tips for working smarter, not harder in 2013. If this new year is filled with',\n",
              " 'Procutivity: How an American in Baghdad Can Help You Save Lives\\n\\nThis past Wednesday, at the International Festival of Media Arts at a New York City college, The Guardian reporter and Baghdad correspondent Nicholas Watt got the opportunity to tell his story about',\n",
              " 'Businesses may be subject\\nto a variety of tax levies and licenses and\\nother regulatory requirements.\\nTo make your business more attractive to\\ninvestors, it is critical to assess the\\ntaxes and licenses your business might be\\nrequired',\n",
              " 'Career Summary:\\n\\nBSc (Hons.)\\n\\nThe course provides a thorough assessment of both theoretical issues in philosophy and contemporary philosophical issues relating broadly to philosophy and the subject matter of practice.\\n\\nWe will focus on two themes:',\n",
              " 'Big Data: What It Is, Why it Matters, and How it Poses a Big Problem for the World\\n\\nThe emergence of Big Data is a phenomenon without a known pattern. The word Big Data has been defined as the “the bulk',\n",
              " 'programming.apache.org/2.0/apidocs/org/apache/commons/digester/Digester.html#init()\">init</a></code> is called from <a href=\"../../../',\n",
              " 'Artificial Intelligience or AI? What Is Artificial Intelligence?\\n\\nIs the artificial intelligence, AI, becoming indistinguishable from human intelligence? Are we moving towards an era where technology becomes indistinguishable from intelligence itself? Or is it still a long way off',\n",
              " 'laptop.jpg']"
            ]
          },
          "metadata": {},
          "execution_count": 11
        }
      ]
    },
    {
      "cell_type": "code",
      "source": [
        "phrases"
      ],
      "metadata": {
        "colab": {
          "base_uri": "https://localhost:8080/"
        },
        "id": "zPQ8NeuIn_nG",
        "outputId": "8d639a8a-543f-4d94-81b0-79d2213eab11"
      },
      "execution_count": 12,
      "outputs": [
        {
          "output_type": "execute_result",
          "data": {
            "text/plain": [
              "['Software Engineering Interview Questions\\n\\nThis article is a list of interview questions to prepare for interview questions for the Software Development interviews.\\n\\nSoftware Engineering Interview Questions\\n\\n1. What is the use of object-oriented programming in OOP?\\nWhat',\n",
              " 'Artificial Intelligience’\\n\\n“Intelligence is at the core of this discussion on artificial intelligence,” says Geremie R. Barmé of the Future of Life Institute and the University of Reading, “but',\n",
              " 'Robotics.com recently conducted an interview with Robert Noyce, the founder of the company behind the iconic Dolly the sheep robot. In a previous post, I talked about how Robert and his team built the company in a garage in rural Seattle',\n",
              " 'Economics in the age of austerity\\n\\nEconomics in the Age of Austerity, or, why the poor get poorer, and the rich get more and more, is an essayist and academic debate between Mancur Olson, an associate professor',\n",
              " 'Trading in a stock is a highly emotional decision. The emotions can be divided into two distinct categories – positive (enthusiastic) and negative (discouraged). Positive emotions like excitement, confidence, and greed come from within where as negative',\n",
              " 'Time Management 101: 10 Tips for Packing It Up in 2013\\n\\nJanuary 13, 2013\\n\\nIn this article I’ll share some of my favorite tips for working smarter, not harder in 2013. If this new year is filled with',\n",
              " 'Procutivity: How an American in Baghdad Can Help You Save Lives\\n\\nThis past Wednesday, at the International Festival of Media Arts at a New York City college, The Guardian reporter and Baghdad correspondent Nicholas Watt got the opportunity to tell his story about',\n",
              " 'Businesses may be subject\\nto a variety of tax levies and licenses and\\nother regulatory requirements.\\nTo make your business more attractive to\\ninvestors, it is critical to assess the\\ntaxes and licenses your business might be\\nrequired',\n",
              " 'Career Summary:\\n\\nBSc (Hons.)\\n\\nThe course provides a thorough assessment of both theoretical issues in philosophy and contemporary philosophical issues relating broadly to philosophy and the subject matter of practice.\\n\\nWe will focus on two themes:',\n",
              " 'Big Data: What It Is, Why it Matters, and How it Poses a Big Problem for the World\\n\\nThe emergence of Big Data is a phenomenon without a known pattern. The word Big Data has been defined as the “the bulk',\n",
              " 'programming.apache.org/2.0/apidocs/org/apache/commons/digester/Digester.html#init()\">init</a></code> is called from <a href=\"../../../',\n",
              " 'Artificial Intelligience or AI? What Is Artificial Intelligence?\\n\\nIs the artificial intelligence, AI, becoming indistinguishable from human intelligence? Are we moving towards an era where technology becomes indistinguishable from intelligence itself? Or is it still a long way off',\n",
              " 'laptop.jpg']"
            ]
          },
          "metadata": {},
          "execution_count": 12
        }
      ]
    },
    {
      "cell_type": "code",
      "source": [
        "class DocumentProcessor:\n",
        "    def __init__(self, documents):\n",
        "        self.documents = documents\n",
        "        self.clean_documents = self.clean_data()\n",
        "        self.vectorizer = TfidfVectorizer()\n",
        "\n",
        "    def clean_data(self):\n",
        "        clean_docs = []\n",
        "        for doc in self.documents:\n",
        "            # Step 1: Cleaning data\n",
        "            clean_doc = re.sub(r'[^a-zA-Z\\s]', '', doc)\n",
        "            # Step 2: Normalization\n",
        "            clean_doc = clean_doc.lower()\n",
        "            # Step 3: Tokenization\n",
        "            tokens = word_tokenize(clean_doc)\n",
        "            # Step 4: Lemmatization\n",
        "            lemmatizer = WordNetLemmatizer()\n",
        "            tokens = [lemmatizer.lemmatize(word) for word in tokens]\n",
        "            # Step 5: Remove stop words\n",
        "            stop_words = set(stopwords.words('english'))\n",
        "            tokens = [word for word in tokens if word not in stop_words]\n",
        "            clean_doc = ' '.join(tokens)\n",
        "            clean_docs.append(clean_doc)\n",
        "        return clean_docs\n",
        "\n",
        "    def calculate_tfidf(self):\n",
        "        # Fit the vectorizer on the cleaned documents\n",
        "        tfidf_matrix = self.vectorizer.fit_transform(self.clean_documents)\n",
        "        feature_names = self.vectorizer.get_feature_names_out()\n",
        "        return tfidf_matrix.toarray(), feature_names\n"
      ],
      "metadata": {
        "id": "duBiYAbBFSaf"
      },
      "execution_count": 13,
      "outputs": []
    },
    {
      "cell_type": "code",
      "source": [
        "# Initialize DocumentProcessor\n",
        "doc_processor = DocumentProcessor(phrases)\n",
        "\n",
        "# Calculate TF-IDF\n",
        "tfidf_matrix, feature_names = doc_processor.calculate_tfidf()\n",
        "\n",
        "# Output TF-IDF matrix\n",
        "print(\"TF-IDF Matrix:\")\n",
        "print(tfidf_matrix)\n",
        "print(feature_names)"
      ],
      "metadata": {
        "colab": {
          "base_uri": "https://localhost:8080/"
        },
        "id": "VT2HIUZY7wYa",
        "outputId": "67a8cfea-bb04-4fee-c6a0-32cbad1ed68c"
      },
      "execution_count": 14,
      "outputs": [
        {
          "output_type": "stream",
          "name": "stdout",
          "text": [
            "TF-IDF Matrix:\n",
            "[[0.         0.         0.         ... 0.         0.         0.        ]\n",
            " [0.         0.         0.         ... 0.         0.         0.        ]\n",
            " [0.         0.         0.         ... 0.         0.         0.        ]\n",
            " ...\n",
            " [0.         0.         0.         ... 0.         0.         0.        ]\n",
            " [0.         0.         0.32731762 ... 0.         0.         0.        ]\n",
            " [0.         0.         0.         ... 0.         0.         0.        ]]\n",
            "['academic' 'age' 'ai' 'american' 'art' 'article' 'artificial' 'ass'\n",
            " 'assessment' 'associate' 'attractive' 'austerity' 'baghdad' 'barm'\n",
            " 'becomes' 'becoming' 'behind' 'big' 'broadly' 'bsc' 'built' 'bulk'\n",
            " 'business' 'called' 'career' 'category' 'city' 'college' 'come' 'company'\n",
            " 'conducted' 'confidence' 'contemporary' 'core' 'correspondent' 'course'\n",
            " 'critical' 'data' 'debate' 'decision' 'defined' 'development'\n",
            " 'discouraged' 'discussion' 'distinct' 'divided' 'dolly' 'economics'\n",
            " 'emergence' 'emotion' 'emotional' 'engineering' 'enthusiastic' 'era'\n",
            " 'essayist' 'excitement' 'favorite' 'festival' 'filled' 'focus' 'founder'\n",
            " 'future' 'garage' 'geremie' 'get' 'got' 'greed' 'guardian' 'ha' 'harder'\n",
            " 'help' 'highly' 'hons' 'href' 'human' 'iconic' 'ill' 'indistinguishable'\n",
            " 'institute' 'intelligence' 'intelligience' 'international' 'interview'\n",
            " 'investor' 'issue' 'january' 'known' 'laptopjpg' 'levy' 'license' 'life'\n",
            " 'like' 'list' 'long' 'make' 'management' 'mancur' 'matter' 'may' 'medium'\n",
            " 'might' 'moving' 'negative' 'new' 'nicholas' 'noyce' 'objectoriented'\n",
            " 'olson' 'oop' 'opportunity' 'packing' 'past' 'pattern' 'phenomenon'\n",
            " 'philosophical' 'philosophy' 'poor' 'poorer' 'pose' 'positive' 'post'\n",
            " 'practice' 'prepare' 'previous' 'problem' 'procutivity' 'professor'\n",
            " 'programming'\n",
            " 'programmingapacheorgapidocsorgapachecommonsdigesterdigesterhtmlinitinitacode'\n",
            " 'provides' 'question' 'reading' 'recently' 'regulatory' 'relating'\n",
            " 'reporter' 'required' 'requirement' 'rich' 'robert' 'robot' 'roboticscom'\n",
            " 'rural' 'save' 'say' 'seattle' 'share' 'sheep' 'smarter' 'software'\n",
            " 'still' 'stock' 'story' 'subject' 'summary' 'talked' 'tax' 'team'\n",
            " 'technology' 'tell' 'theme' 'theoretical' 'thorough' 'time' 'tip'\n",
            " 'towards' 'trading' 'two' 'university' 'use' 'variety' 'watt' 'way'\n",
            " 'wednesday' 'within' 'without' 'word' 'working' 'world' 'year' 'york']\n"
          ]
        }
      ]
    },
    {
      "cell_type": "code",
      "source": [],
      "metadata": {
        "id": "neEdcEbm_nrR"
      },
      "execution_count": null,
      "outputs": []
    }
  ]
}